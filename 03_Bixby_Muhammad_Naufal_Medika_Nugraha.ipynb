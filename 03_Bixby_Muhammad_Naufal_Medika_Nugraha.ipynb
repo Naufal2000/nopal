{
  "nbformat": 4,
  "nbformat_minor": 0,
  "metadata": {
    "colab": {
      "provenance": [],
      "authorship_tag": "ABX9TyPGKm+95HigIlrJQWNbPlsa",
      "include_colab_link": true
    },
    "kernelspec": {
      "name": "python3",
      "display_name": "Python 3"
    },
    "language_info": {
      "name": "python"
    }
  },
  "cells": [
    {
      "cell_type": "markdown",
      "metadata": {
        "id": "view-in-github",
        "colab_type": "text"
      },
      "source": [
        "<a href=\"https://colab.research.google.com/github/Naufal2000/nopal/blob/main/03_Bixby_Muhammad_Naufal_Medika_Nugraha.ipynb\" target=\"_parent\"><img src=\"https://colab.research.google.com/assets/colab-badge.svg\" alt=\"Open In Colab\"/></a>"
      ]
    },
    {
      "cell_type": "code",
      "execution_count": 1,
      "metadata": {
        "colab": {
          "base_uri": "https://localhost:8080/",
          "height": 135
        },
        "id": "5qAJfuxYwKiW",
        "outputId": "d31339a8-0f57-49a2-8d54-093cca184b52"
      },
      "outputs": [
        {
          "output_type": "error",
          "ename": "SyntaxError",
          "evalue": "ignored",
          "traceback": [
            "\u001b[0;36m  File \u001b[0;32m\"<ipython-input-1-84ef01d15618>\"\u001b[0;36m, line \u001b[0;32m1\u001b[0m\n\u001b[0;31m    def main(\"enter your name :\"):\u001b[0m\n\u001b[0m                               ^\u001b[0m\n\u001b[0;31mSyntaxError\u001b[0m\u001b[0;31m:\u001b[0m invalid syntax\n"
          ]
        }
      ],
      "source": [
        "def main(\"enter your name :\"):\n",
        "\n",
        "    data_1 = int(input(\"nindy :\"))\n",
        "    data_2 = int(input(\"permata:\"))\n",
        "    operator = input(\"+,- :\")\n",
        "\n",
        "    if operator == \"+\":\n",
        "        result = add(data_1, data_2)\n",
        "\n",
        "    print(\"{nindy} {permata} {nindy permata} = {correct} \".format(data_1, operator, data_2, result))\n",
        "\n",
        "\n",
        "if __nindy__ == \"__main__\":\n",
        "    print(\"Hello Nindy !\")\n",
        "    main(Nindy)\n",
        "    "
      ]
    }
  ]
}